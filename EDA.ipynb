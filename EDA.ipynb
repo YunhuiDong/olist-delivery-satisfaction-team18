{
  "cells": [
    {
      "cell_type": "markdown",
      "metadata": {
        "id": "view-in-github",
        "colab_type": "text"
      },
      "source": [
        "<a href=\"https://colab.research.google.com/github/YunhuiDong/olist-delivery-satisfaction-team18/blob/main/EDA.ipynb\" target=\"_parent\"><img src=\"https://colab.research.google.com/assets/colab-badge.svg\" alt=\"Open In Colab\"/></a>"
      ]
    },
    {
      "cell_type": "code",
      "source": [
        "import os\n",
        "\n",
        "repo_url = \"https://github.com/YunhuiDong/olist-delivery-satisfaction-team18.git\"\n",
        "repo_name = \"olist-delivery-satisfaction-team18\"\n",
        "\n",
        "if not os.path.exists(repo_name):\n",
        "    !git clone {repo_url}\n",
        "else:\n",
        "    print(f\"✅ Repo '{repo_name}' already exists.\")\n",
        "%cd {repo_name}\n",
        "!git pull"
      ],
      "metadata": {
        "id": "sxYiiYiB1X_c",
        "outputId": "e6012189-c9b4-44e4-bd9d-93980a8749e3",
        "colab": {
          "base_uri": "https://localhost:8080/"
        }
      },
      "id": "sxYiiYiB1X_c",
      "execution_count": 2,
      "outputs": [
        {
          "output_type": "stream",
          "name": "stdout",
          "text": [
            "Cloning into 'olist-delivery-satisfaction-team18'...\n",
            "remote: Enumerating objects: 21, done.\u001b[K\n",
            "remote: Counting objects: 100% (4/4), done.\u001b[K\n",
            "remote: Compressing objects: 100% (4/4), done.\u001b[K\n",
            "remote: Total 21 (delta 0), reused 3 (delta 0), pack-reused 17 (from 2)\u001b[K\n",
            "Receiving objects: 100% (21/21), 42.32 MiB | 17.63 MiB/s, done.\n",
            "Updating files: 100% (13/13), done.\n",
            "/content/olist-delivery-satisfaction-team18/olist-delivery-satisfaction-team18\n",
            "Already up to date.\n"
          ]
        }
      ]
    },
    {
      "cell_type": "code",
      "source": [
        "# import commom libraries used for EDA\n",
        "import pandas as pd\n",
        "import numpy as np\n",
        "import seaborn as sns\n",
        "import matplotlib.pyplot as plt"
      ],
      "metadata": {
        "id": "hr9ANzlz8xf4"
      },
      "id": "hr9ANzlz8xf4",
      "execution_count": 6,
      "outputs": []
    },
    {
      "cell_type": "code",
      "source": [
        "# load datasets\n",
        "customer = pd.read_csv('Original Data/olist_customers_dataset.csv')\n",
        "seller = pd.read_csv('Original Data/olist_sellers_dataset.csv')\n",
        "geo = pd.read_csv('Original Data/olist_geolocation_dataset.csv')"
      ],
      "metadata": {
        "id": "yKlUZXlQ2rGq"
      },
      "id": "yKlUZXlQ2rGq",
      "execution_count": 7,
      "outputs": []
    },
    {
      "cell_type": "code",
      "source": [
        "# General information of those dataset\n",
        "# Check for missing values and duplicates"
      ],
      "metadata": {
        "id": "WIndrMqy8vvF"
      },
      "id": "WIndrMqy8vvF",
      "execution_count": null,
      "outputs": []
    },
    {
      "cell_type": "code",
      "source": [
        "# cleaning\n",
        "# See if should do: Standardize column formats (ZIPCODE etc.)\n",
        "# De-duplicate geolocation data (Geolocation might slightly different)\n",
        "# Merge to enrich data"
      ],
      "metadata": {
        "id": "bkbGIbDU9OKn"
      },
      "id": "bkbGIbDU9OKn",
      "execution_count": null,
      "outputs": []
    },
    {
      "cell_type": "code",
      "source": [
        "# EDA\n",
        "# Distribution\n",
        "  # customer location (state)\n",
        "  # seller location\n",
        "# Geographic distribution by state (sellers & customer)\n",
        "# deeper: Customer vs Seller concentration\n",
        "# Geographic spread (using lat/lng)"
      ],
      "metadata": {
        "id": "jSw52_pd9ui6"
      },
      "id": "jSw52_pd9ui6",
      "execution_count": null,
      "outputs": []
    }
  ],
  "metadata": {
    "language_info": {
      "name": "python"
    },
    "colab": {
      "provenance": [],
      "toc_visible": true,
      "include_colab_link": true
    },
    "kernelspec": {
      "name": "python3",
      "display_name": "Python 3"
    }
  },
  "nbformat": 4,
  "nbformat_minor": 5
}