{
  "cells": [
    {
      "cell_type": "markdown",
      "metadata": {
        "id": "view-in-github",
        "colab_type": "text"
      },
      "source": [
        "<a href=\"https://colab.research.google.com/github/YunhuiDong/olist-delivery-satisfaction-team18/blob/main/EDA.ipynb\" target=\"_parent\"><img src=\"https://colab.research.google.com/assets/colab-badge.svg\" alt=\"Open In Colab\"/></a>"
      ]
    },
    {
      "cell_type": "code",
      "source": [
        "import os\n",
        "\n",
        "repo_url = \"https://github.com/YunhuiDong/olist-delivery-satisfaction-team18.git\"\n",
        "repo_name = \"olist-delivery-satisfaction-team18\"\n",
        "\n",
        "if not os.path.exists(repo_name):\n",
        "    !git clone {repo_url}\n",
        "else:\n",
        "    print(f\"✅ Repo '{repo_name}' already exists.\")\n",
        "%cd {repo_name}\n",
        "!git pull"
      ],
      "metadata": {
        "id": "sxYiiYiB1X_c",
        "outputId": "0c2cdfc4-1625-46b2-8cc3-37ec7ff1aec7",
        "colab": {
          "base_uri": "https://localhost:8080/"
        }
      },
      "id": "sxYiiYiB1X_c",
      "execution_count": 1,
      "outputs": [
        {
          "output_type": "stream",
          "name": "stdout",
          "text": [
            "Cloning into 'olist-delivery-satisfaction-team18'...\n",
            "remote: Enumerating objects: 24, done.\u001b[K\n",
            "remote: Counting objects: 100% (7/7), done.\u001b[K\n",
            "remote: Compressing objects: 100% (7/7), done.\u001b[K\n",
            "remote: Total 24 (delta 1), reused 2 (delta 0), pack-reused 17 (from 2)\u001b[K\n",
            "Receiving objects: 100% (24/24), 42.32 MiB | 11.75 MiB/s, done.\n",
            "Resolving deltas: 100% (1/1), done.\n",
            "Updating files: 100% (13/13), done.\n",
            "/content/olist-delivery-satisfaction-team18\n",
            "Already up to date.\n"
          ]
        }
      ]
    },
    {
      "cell_type": "code",
      "source": [
        "# import commom libraries used for EDA\n",
        "import pandas as pd\n",
        "import numpy as np\n",
        "import seaborn as sns\n",
        "import matplotlib.pyplot as plt"
      ],
      "metadata": {
        "id": "hr9ANzlz8xf4"
      },
      "id": "hr9ANzlz8xf4",
      "execution_count": 2,
      "outputs": []
    },
    {
      "cell_type": "code",
      "source": [
        "# load datasets\n",
        "customer = pd.read_csv('Original Data/olist_customers_dataset.csv')\n",
        "seller = pd.read_csv('Original Data/olist_sellers_dataset.csv')\n",
        "geo = pd.read_csv('Original Data/olist_geolocation_dataset.csv')\n"
      ],
      "metadata": {
        "id": "yKlUZXlQ2rGq"
      },
      "id": "yKlUZXlQ2rGq",
      "execution_count": 3,
      "outputs": []
    },
    {
      "cell_type": "code",
      "source": [
        "# General information of those dataset\n",
        "# Check for missing values and duplicates\n",
        "df['review_comment_title']=df['review_comment_title'].fillna('no title')\n",
        "df['review_comment_message'] = df['review_comment_message'].fillna('no comment')\n",
        "df['review_creation_date'] = pd.to_datetime(df['review_creation_date'])\n",
        "df['review_answer_timestamp'] = pd.to_datetime(df['review_answer_timestamp'])\n"
      ],
      "metadata": {
        "id": "WIndrMqy8vvF",
        "outputId": "8dfe8157-ade1-4f10-cc33-17cabd5c1ad8",
        "colab": {
          "base_uri": "https://localhost:8080/",
          "height": 323
        }
      },
      "id": "WIndrMqy8vvF",
      "execution_count": 4,
      "outputs": [
        {
          "output_type": "error",
          "ename": "NameError",
          "evalue": "name 'df' is not defined",
          "traceback": [
            "\u001b[0;31m---------------------------------------------------------------------------\u001b[0m",
            "\u001b[0;31mNameError\u001b[0m                                 Traceback (most recent call last)",
            "\u001b[0;32m/tmp/ipython-input-1256864367.py\u001b[0m in \u001b[0;36m<cell line: 0>\u001b[0;34m()\u001b[0m\n\u001b[1;32m      1\u001b[0m \u001b[0;31m# General information of those dataset\u001b[0m\u001b[0;34m\u001b[0m\u001b[0;34m\u001b[0m\u001b[0m\n\u001b[1;32m      2\u001b[0m \u001b[0;31m# Check for missing values and duplicates\u001b[0m\u001b[0;34m\u001b[0m\u001b[0;34m\u001b[0m\u001b[0m\n\u001b[0;32m----> 3\u001b[0;31m \u001b[0mdf\u001b[0m\u001b[0;34m[\u001b[0m\u001b[0;34m'review_comment_title'\u001b[0m\u001b[0;34m]\u001b[0m\u001b[0;34m=\u001b[0m\u001b[0mdf\u001b[0m\u001b[0;34m[\u001b[0m\u001b[0;34m'review_comment_title'\u001b[0m\u001b[0;34m]\u001b[0m\u001b[0;34m.\u001b[0m\u001b[0mfillna\u001b[0m\u001b[0;34m(\u001b[0m\u001b[0;34m'no title'\u001b[0m\u001b[0;34m)\u001b[0m\u001b[0;34m\u001b[0m\u001b[0;34m\u001b[0m\u001b[0m\n\u001b[0m\u001b[1;32m      4\u001b[0m \u001b[0mdf\u001b[0m\u001b[0;34m[\u001b[0m\u001b[0;34m'review_comment_message'\u001b[0m\u001b[0;34m]\u001b[0m \u001b[0;34m=\u001b[0m \u001b[0mdf\u001b[0m\u001b[0;34m[\u001b[0m\u001b[0;34m'review_comment_message'\u001b[0m\u001b[0;34m]\u001b[0m\u001b[0;34m.\u001b[0m\u001b[0mfillna\u001b[0m\u001b[0;34m(\u001b[0m\u001b[0;34m'no comment'\u001b[0m\u001b[0;34m)\u001b[0m\u001b[0;34m\u001b[0m\u001b[0;34m\u001b[0m\u001b[0m\n\u001b[1;32m      5\u001b[0m \u001b[0mdf\u001b[0m\u001b[0;34m[\u001b[0m\u001b[0;34m'review_creation_date'\u001b[0m\u001b[0;34m]\u001b[0m \u001b[0;34m=\u001b[0m \u001b[0mpd\u001b[0m\u001b[0;34m.\u001b[0m\u001b[0mto_datetime\u001b[0m\u001b[0;34m(\u001b[0m\u001b[0mdf\u001b[0m\u001b[0;34m[\u001b[0m\u001b[0;34m'review_creation_date'\u001b[0m\u001b[0;34m]\u001b[0m\u001b[0;34m)\u001b[0m\u001b[0;34m\u001b[0m\u001b[0;34m\u001b[0m\u001b[0m\n",
            "\u001b[0;31mNameError\u001b[0m: name 'df' is not defined"
          ]
        }
      ]
    },
    {
      "cell_type": "code",
      "source": [
        "# cleaning\n",
        "# See if should do: Standardize column formats (ZIPCODE etc.)\n",
        "# De-duplicate geolocation data (Geolocation might slightly different)\n",
        "# Merge to enrich data\n"
      ],
      "metadata": {
        "id": "bkbGIbDU9OKn"
      },
      "id": "bkbGIbDU9OKn",
      "execution_count": null,
      "outputs": []
    },
    {
      "cell_type": "code",
      "source": [
        "# EDA\n",
        "# Distribution\n",
        "  # customer location (state)\n",
        "  # seller location\n",
        "# Geographic distribution by state (sellers & customer)\n",
        "# deeper: Customer vs Seller concentration\n",
        "# Geographic spread (using lat/lng)"
      ],
      "metadata": {
        "id": "jSw52_pd9ui6"
      },
      "id": "jSw52_pd9ui6",
      "execution_count": null,
      "outputs": []
    }
  ],
  "metadata": {
    "language_info": {
      "name": "python"
    },
    "colab": {
      "provenance": [],
      "include_colab_link": true
    },
    "kernelspec": {
      "name": "python3",
      "display_name": "Python 3"
    }
  },
  "nbformat": 4,
  "nbformat_minor": 5
}